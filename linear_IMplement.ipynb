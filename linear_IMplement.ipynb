{
  "nbformat": 4,
  "nbformat_minor": 0,
  "metadata": {
    "colab": {
      "name": "linear IMplement",
      "provenance": [],
      "mount_file_id": "13Ekna4yKGs1y0HWAxHQoewiUUue3Fer-",
      "authorship_tag": "ABX9TyNhO6l+PclMsTXPJvZSdhE1",
      "include_colab_link": true
    },
    "kernelspec": {
      "name": "python3",
      "display_name": "Python 3"
    }
  },
  "cells": [
    {
      "cell_type": "markdown",
      "metadata": {
        "id": "view-in-github",
        "colab_type": "text"
      },
      "source": [
        "<a href=\"https://colab.research.google.com/github/19pa1a04e8/shaikfarid/blob/master/linear_IMplement.ipynb\" target=\"_parent\"><img src=\"https://colab.research.google.com/assets/colab-badge.svg\" alt=\"Open In Colab\"/></a>"
      ]
    },
    {
      "cell_type": "code",
      "metadata": {
        "id": "wrXUyqMtYKIr",
        "colab_type": "code",
        "colab": {
          "base_uri": "https://localhost:8080/",
          "height": 68
        },
        "outputId": "2189e894-0b08-40fe-f8d1-93125d7b9b97"
      },
      "source": [
        "import numpy as np\n",
        "X=np.array([1,2,3,4,5])\n",
        "Y=np.array([3,6,9,12,15])\n",
        "mean_X=np.mean(X)\n",
        "mean_Y=np.mean(Y)\n",
        "print(X,Y)\n",
        "n=len(X)\n",
        "print(n)\n",
        "mean_X,mean_Y"
      ],
      "execution_count": 59,
      "outputs": [
        {
          "output_type": "stream",
          "text": [
            "[1 2 3 4 5] [ 3  6  9 12 15]\n",
            "5\n"
          ],
          "name": "stdout"
        },
        {
          "output_type": "execute_result",
          "data": {
            "text/plain": [
              "(3.0, 9.0)"
            ]
          },
          "metadata": {
            "tags": []
          },
          "execution_count": 59
        }
      ]
    },
    {
      "cell_type": "code",
      "metadata": {
        "id": "Z1r3Pz6qim2l",
        "colab_type": "code",
        "colab": {
          "base_uri": "https://localhost:8080/",
          "height": 51
        },
        "outputId": "19dfca4c-4408-4d12-cb73-b1f8b42d6b71"
      },
      "source": [
        "num=0\n",
        "denom=0\n",
        "for i in range(n):\n",
        "  num=num+(X[i]-mean_X)*(Y[i]-mean_Y)\n",
        "  denom=denom+(X[i]-mean_X)**2\n",
        "print(num)\n",
        "print(denom)"
      ],
      "execution_count": 60,
      "outputs": [
        {
          "output_type": "stream",
          "text": [
            "30.0\n",
            "10.0\n"
          ],
          "name": "stdout"
        }
      ]
    },
    {
      "cell_type": "code",
      "metadata": {
        "id": "NWo6NbrAi5Sd",
        "colab_type": "code",
        "colab": {
          "base_uri": "https://localhost:8080/",
          "height": 51
        },
        "outputId": "710b304b-b3c7-49e3-f1a1-d830bd9bba06"
      },
      "source": [
        "m_slope=num/denom\n",
        "c_intercept=mean_Y-(m_slope*mean_X)\n",
        "print(\"slope=\",m_slope)\n",
        "print(\"intercept\",c_intercept)"
      ],
      "execution_count": 61,
      "outputs": [
        {
          "output_type": "stream",
          "text": [
            "slope= 3.0\n",
            "intercept 0.0\n"
          ],
          "name": "stdout"
        }
      ]
    },
    {
      "cell_type": "code",
      "metadata": {
        "id": "7R6HSv42l7_b",
        "colab_type": "code",
        "colab": {
          "base_uri": "https://localhost:8080/",
          "height": 34
        },
        "outputId": "ff753d67-f450-4ab5-dc76-901bf3365a88"
      },
      "source": [
        "#Predicted Values\n",
        "min_X=np.min(X)\n",
        "max_Y=np.max(Y)\n",
        "print(min_X,max_Y)"
      ],
      "execution_count": 62,
      "outputs": [
        {
          "output_type": "stream",
          "text": [
            "1 15\n"
          ],
          "name": "stdout"
        }
      ]
    },
    {
      "cell_type": "code",
      "metadata": {
        "id": "oVsCJvCtmMxD",
        "colab_type": "code",
        "colab": {
          "base_uri": "https://localhost:8080/",
          "height": 34
        },
        "outputId": "67f092c1-2f9c-4eee-d9b3-fd9c320ab021"
      },
      "source": [
        "#y_pred\n",
        "l=[]\n",
        "for i in range(n):\n",
        " y_pred=m_slope*X[i]+c_intercept\n",
        " l.append(y_pred)\n",
        "print(l)\n",
        "yy=np.array(l)"
      ],
      "execution_count": 63,
      "outputs": [
        {
          "output_type": "stream",
          "text": [
            "[3.0, 6.0, 9.0, 12.0, 15.0]\n"
          ],
          "name": "stdout"
        }
      ]
    },
    {
      "cell_type": "code",
      "metadata": {
        "id": "eBbIXHPdmXrk",
        "colab_type": "code",
        "colab": {
          "base_uri": "https://localhost:8080/",
          "height": 282
        },
        "outputId": "746bb7bb-ceb7-4f3b-9ebe-6e5b08e91d26"
      },
      "source": [
        "import matplotlib.pyplot as plt\n",
        "plt.plot(X,yy)\n",
        "plt.scatter(X,Y)"
      ],
      "execution_count": 72,
      "outputs": [
        {
          "output_type": "execute_result",
          "data": {
            "text/plain": [
              "<matplotlib.collections.PathCollection at 0x7ff0357dba58>"
            ]
          },
          "metadata": {
            "tags": []
          },
          "execution_count": 72
        },
        {
          "output_type": "display_data",
          "data": {
            "image/png": "[encoded data removed]",
            "text/plain": [
              "<Figure size 432x288 with 1 Axes>"
            ]
          },
          "metadata": {
            "tags": []
          }
        }
      ]
    },
    {
      "cell_type": "code",
      "metadata": {
        "id": "E7OPsEZgmp_0",
        "colab_type": "code",
        "colab": {
          "base_uri": "https://localhost:8080/",
          "height": 68
        },
        "outputId": "4f40660e-b031-4363-dece-35ee7d8eec55"
      },
      "source": [
        "#R Square\n",
        "#Error\n",
        "n1=0\n",
        "n2=0\n",
        "n3=0\n",
        "for i in range(n):\n",
        " n1=n1+(Y[i]-np.mean(Y))**2\n",
        " n2=n2+(yy[i]-np.mean(Y))**2\n",
        " n3=n3+(yy[i]-Y[i])**2\n",
        "print(n1)\n",
        "print(n2)\n",
        "print(n3)"
      ],
      "execution_count": 70,
      "outputs": [
        {
          "output_type": "stream",
          "text": [
            "90.0\n",
            "90.0\n",
            "0.0\n"
          ],
          "name": "stdout"
        }
      ]
    },
    {
      "cell_type": "code",
      "metadata": {
        "id": "GyMAlN5Wm0mU",
        "colab_type": "code",
        "colab": {
          "base_uri": "https://localhost:8080/",
          "height": 34
        },
        "outputId": "64cd8a7a-bd81-439d-e746-536901e2d448"
      },
      "source": [
        "RR=n2/n1\n",
        "print(\"R Square=\",RR)"
      ],
      "execution_count": 66,
      "outputs": [
        {
          "output_type": "stream",
          "text": [
            "R Square= 1.0\n"
          ],
          "name": "stdout"
        }
      ]
    },
    {
      "cell_type": "code",
      "metadata": {
        "id": "o_lf8DgVnFfF",
        "colab_type": "code",
        "colab": {
          "base_uri": "https://localhost:8080/",
          "height": 34
        },
        "outputId": "b97fcc9a-acca-4572-d992-a97dd47f05b8"
      },
      "source": [
        "#Standard Error\n",
        "for i in range(n):\n",
        " stderr=np.sqrt(n3/(n-2))\n",
        "print(stderr)"
      ],
      "execution_count": 71,
      "outputs": [
        {
          "output_type": "stream",
          "text": [
            "0.0\n"
          ],
          "name": "stdout"
        }
      ]
    },
    {
      "cell_type": "code",
      "metadata": {
        "id": "KFb_dOKLoPG-",
        "colab_type": "code",
        "colab": {}
      },
      "source": [
        ""
      ],
      "execution_count": 0,
      "outputs": []
    }
  ]
}