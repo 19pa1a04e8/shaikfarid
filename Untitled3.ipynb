{
  "nbformat": 4,
  "nbformat_minor": 0,
  "metadata": {
    "colab": {
      "name": "Untitled3.ipynb",
      "provenance": [],
      "authorship_tag": "ABX9TyPVVmu4DbtW1KZ0Wj4ooRxp",
      "include_colab_link": true
    },
    "kernelspec": {
      "name": "python3",
      "display_name": "Python 3"
    }
  },
  "cells": [
    {
      "cell_type": "markdown",
      "metadata": {
        "id": "view-in-github",
        "colab_type": "text"
      },
      "source": [
        "<a href=\"https://colab.research.google.com/github/ShaikFarid0/shaikfarid/blob/master/Untitled3.ipynb\" target=\"_parent\"><img src=\"https://colab.research.google.com/assets/colab-badge.svg\" alt=\"Open In Colab\"/></a>"
      ]
    },
    {
      "cell_type": "code",
      "metadata": {
        "id": "czvJpDk_Zawi",
        "colab_type": "code",
        "colab": {
          "base_uri": "https://localhost:8080/",
          "height": 255
        },
        "outputId": "ddc89777-6d10-42f4-b0aa-c2ffb336c4ff"
      },
      "source": [
        "import pandas as pd\n",
        "df=pd.read_csv(\"/content/sample_data/mnist_train_small.csv\")\n",
        "print(df)"
      ],
      "execution_count": 1,
      "outputs": [
        {
          "output_type": "stream",
          "text": [
            "       6  0  0.1  0.2  0.3  0.4  ...  0.585  0.586  0.587  0.588  0.589  0.590\n",
            "0      5  0    0    0    0    0  ...      0      0      0      0      0      0\n",
            "1      7  0    0    0    0    0  ...      0      0      0      0      0      0\n",
            "2      9  0    0    0    0    0  ...      0      0      0      0      0      0\n",
            "3      5  0    0    0    0    0  ...      0      0      0      0      0      0\n",
            "4      2  0    0    0    0    0  ...      0      0      0      0      0      0\n",
            "...   .. ..  ...  ...  ...  ...  ...    ...    ...    ...    ...    ...    ...\n",
            "19994  0  0    0    0    0    0  ...      0      0      0      0      0      0\n",
            "19995  1  0    0    0    0    0  ...      0      0      0      0      0      0\n",
            "19996  2  0    0    0    0    0  ...      0      0      0      0      0      0\n",
            "19997  9  0    0    0    0    0  ...      0      0      0      0      0      0\n",
            "19998  5  0    0    0    0    0  ...      0      0      0      0      0      0\n",
            "\n",
            "[19999 rows x 785 columns]\n"
          ],
          "name": "stdout"
        }
      ]
    }
  ]
}